{
 "cells": [
  {
   "cell_type": "code",
   "execution_count": 1,
   "metadata": {},
   "outputs": [],
   "source": [
    "def leap():\n",
    "    cy=int(input(\"Enter the year from which you need the next 20 leap years whose digit sum is greater than 16 \"))\n",
    "    leap_list=[]\n",
    "    while(len(leap_list)<20):\n",
    "        if (cy%4==0 and cy%100!=0) or (cy%400==0):\n",
    "            result=digit_sum(cy)\n",
    "            if result==1:\n",
    "                leap_list.append(cy)\n",
    "                cy+=1\n",
    "            else:\n",
    "                cy+=1\n",
    "        else:\n",
    "            cy+=1\n",
    "    print(leap_list)"
   ]
  },
  {
   "cell_type": "code",
   "execution_count": 2,
   "metadata": {},
   "outputs": [],
   "source": [
    "def digit_sum(n):\n",
    "    sum=0\n",
    "    k=n\n",
    "    while(k>0):\n",
    "        digit=k%10\n",
    "        sum+=digit\n",
    "        k=k//10\n",
    "    g=greater(sum)\n",
    "    if g==1:\n",
    "        return 1\n",
    "    else:\n",
    "        return 0\n",
    "      "
   ]
  },
  {
   "cell_type": "code",
   "execution_count": 3,
   "metadata": {},
   "outputs": [],
   "source": [
    "def greater(m):\n",
    "    if m>16:\n",
    "        return 1\n",
    "    else:\n",
    "        return 0\n",
    "    "
   ]
  },
  {
   "cell_type": "code",
   "execution_count": 4,
   "metadata": {},
   "outputs": [
    {
     "name": "stdout",
     "output_type": "stream",
     "text": [
      "Enter the year from which you need the next 20 leap years whose digit sum is greater than 16 2020\n",
      "[2088, 2096, 2168, 2188, 2196, 2268, 2276, 2288, 2296, 2348, 2368, 2376, 2384, 2388, 2396, 2448, 2456, 2468, 2476, 2484]\n"
     ]
    }
   ],
   "source": [
    "leap()"
   ]
  },
  {
   "cell_type": "code",
   "execution_count": null,
   "metadata": {},
   "outputs": [],
   "source": []
  }
 ],
 "metadata": {
  "kernelspec": {
   "display_name": "Python 3",
   "language": "python",
   "name": "python3"
  },
  "language_info": {
   "codemirror_mode": {
    "name": "ipython",
    "version": 3
   },
   "file_extension": ".py",
   "mimetype": "text/x-python",
   "name": "python",
   "nbconvert_exporter": "python",
   "pygments_lexer": "ipython3",
   "version": "3.7.6"
  }
 },
 "nbformat": 4,
 "nbformat_minor": 2
}
