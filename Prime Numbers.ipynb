{
 "cells": [
  {
   "cell_type": "code",
   "execution_count": 9,
   "metadata": {},
   "outputs": [],
   "source": [
    "def prime(n,m):\n",
    "    prime_list=[]\n",
    "    for i in range(n,m+1):\n",
    "        for j in range(2,i):\n",
    "            if (i%j)==0:\n",
    "                break\n",
    "        else:\n",
    "            prime_list.append(i)       \n",
    "    print(\"Prime numbers in range ({},{}) are {}\".format(n,m,prime_list))"
   ]
  },
  {
   "cell_type": "code",
   "execution_count": 10,
   "metadata": {},
   "outputs": [
    {
     "name": "stdout",
     "output_type": "stream",
     "text": [
      "Enter the lowest range 10\n",
      "Enter the largest range 20\n",
      "Prime numbers in range (10,20) are [11, 13, 17, 19]\n"
     ]
    }
   ],
   "source": [
    "min=int(input(\"Enter the lowest range \"))\n",
    "max=int(input(\"Enter the largest range \"))\n",
    "prime(min,max)"
   ]
  },
  {
   "cell_type": "code",
   "execution_count": null,
   "metadata": {},
   "outputs": [],
   "source": []
  }
 ],
 "metadata": {
  "kernelspec": {
   "display_name": "Python 3",
   "language": "python",
   "name": "python3"
  },
  "language_info": {
   "codemirror_mode": {
    "name": "ipython",
    "version": 3
   },
   "file_extension": ".py",
   "mimetype": "text/x-python",
   "name": "python",
   "nbconvert_exporter": "python",
   "pygments_lexer": "ipython3",
   "version": "3.7.6"
  }
 },
 "nbformat": 4,
 "nbformat_minor": 2
}
