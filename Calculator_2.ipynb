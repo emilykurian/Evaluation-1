{
 "cells": [
  {
   "cell_type": "code",
   "execution_count": 9,
   "metadata": {},
   "outputs": [],
   "source": [
    "def Sum():\n",
    "    a=float(input(\"Enter the 1st number \"))\n",
    "    b=float(input(\"Enter the 2nd number \"))\n",
    "    print(\"Addition=\",a+b)  "
   ]
  },
  {
   "cell_type": "code",
   "execution_count": 10,
   "metadata": {},
   "outputs": [],
   "source": [
    "def subtraction():\n",
    "    c=float(input(\"Enter the 1st numbers\"))\n",
    "    d =float(input(\"Enter the 2nd numbers\"))\n",
    "    if c>=d:\n",
    "        print(\"The difference is\",c-d)\n",
    "    else:\n",
    "        print(\"The difference is\",d-c)"
   ]
  },
  {
   "cell_type": "code",
   "execution_count": 11,
   "metadata": {},
   "outputs": [],
   "source": [
    "def multiplication():\n",
    "    e=float(input(\"Enter the 1st numbers\"))\n",
    "    f=float(input(\"Enter the 2nd numbers\"))\n",
    "    print(\"Product=\",e*f)\n",
    "    "
   ]
  },
  {
   "cell_type": "code",
   "execution_count": 12,
   "metadata": {},
   "outputs": [],
   "source": [
    "def division():\n",
    "    g=float(input(\"Enter the 1st numbers\"))\n",
    "    h=float(input(\"Enter the 2nd numbers\"))\n",
    "    print(g/h)"
   ]
  },
  {
   "cell_type": "code",
   "execution_count": 13,
   "metadata": {},
   "outputs": [],
   "source": [
    "def distance():\n",
    "    s=float(input(\"Enter speed in km/h\"))\n",
    "    t=float(input(\"Enter time in hours\"))\n",
    "    print(\"Distance is {} km\".format(s*t))"
   ]
  },
  {
   "cell_type": "code",
   "execution_count": 14,
   "metadata": {},
   "outputs": [],
   "source": [
    "def speed():\n",
    "    d=float(input(\"Enter distance in km\"))\n",
    "    time=float(input(\"Enter time in hours \"))\n",
    "    print(\"Speed is {} km/hr\".format(d/time))"
   ]
  },
  {
   "cell_type": "code",
   "execution_count": 15,
   "metadata": {},
   "outputs": [],
   "source": [
    "def intrest():\n",
    "    p=float(input(\"Enter Principle amount\"))\n",
    "    r=float(input(\"Enter intrest rate in percentage\"))\n",
    "    t=float(input(\"Enter time duration\"))\n",
    "    i=(p*t*r)/100\n",
    "    print(\"Simple Intrest=\",i) "
   ]
  },
  {
   "cell_type": "code",
   "execution_count": 21,
   "metadata": {},
   "outputs": [
    {
     "name": "stdout",
     "output_type": "stream",
     "text": [
      "1. Addition\n",
      "2. Subtraction\n",
      "3. Multiplication\n",
      "4. Division\n",
      "5. Distance\n",
      "6. Speed\n",
      "7. Simple Intrest \n",
      "Enter your choice from 1/2/3/4/5/6/77\n",
      "Enter Principle amount100\n",
      "Enter intrest rate in percentage50\n",
      "Enter time duration4\n",
      "Simple Intrest= 200.0\n"
     ]
    }
   ],
   "source": [
    "print(\"1. Addition\")\n",
    "print(\"2. Subtraction\")\n",
    "print(\"3. Multiplication\")\n",
    "print(\"4. Division\")\n",
    "print(\"5. Distance\")\n",
    "print(\"6. Speed\")\n",
    "print(\"7. Simple Intrest \")\n",
    "\n",
    "sel=input(\"Enter your choice from 1/2/3/4/5/6/7\")\n",
    "if sel=='1':\n",
    "    Sum()\n",
    "elif sel=='2':\n",
    "    subtraction()\n",
    "elif sel=='3':\n",
    "    multiplication()\n",
    "elif sel=='4':\n",
    "    division()\n",
    "elif sel=='5':\n",
    "    distance()\n",
    "elif sel=='6':\n",
    "    speed()\n",
    "elif sel=='7':\n",
    "    intrest()\n",
    "else:\n",
    "    print(\"Invalid input\")"
   ]
  },
  {
   "cell_type": "code",
   "execution_count": null,
   "metadata": {},
   "outputs": [],
   "source": []
  },
  {
   "cell_type": "code",
   "execution_count": null,
   "metadata": {},
   "outputs": [],
   "source": []
  }
 ],
 "metadata": {
  "kernelspec": {
   "display_name": "Python 3",
   "language": "python",
   "name": "python3"
  },
  "language_info": {
   "codemirror_mode": {
    "name": "ipython",
    "version": 3
   },
   "file_extension": ".py",
   "mimetype": "text/x-python",
   "name": "python",
   "nbconvert_exporter": "python",
   "pygments_lexer": "ipython3",
   "version": "3.7.6"
  }
 },
 "nbformat": 4,
 "nbformat_minor": 2
}
